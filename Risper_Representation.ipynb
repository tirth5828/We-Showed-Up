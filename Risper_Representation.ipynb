{
  "nbformat": 4,
  "nbformat_minor": 0,
  "metadata": {
    "colab": {
      "provenance": [],
      "authorship_tag": "ABX9TyMij3Snc4ilEln4gdG0qPDe",
      "include_colab_link": true
    },
    "kernelspec": {
      "name": "python3",
      "display_name": "Python 3"
    },
    "language_info": {
      "name": "python"
    }
  },
  "cells": [
    {
      "cell_type": "markdown",
      "metadata": {
        "id": "view-in-github",
        "colab_type": "text"
      },
      "source": [
        "<a href=\"https://colab.research.google.com/github/tirth5828/We-Showed-Up/blob/main/Risper_Representation.ipynb\" target=\"_parent\"><img src=\"https://colab.research.google.com/assets/colab-badge.svg\" alt=\"Open In Colab\"/></a>"
      ]
    },
    {
      "cell_type": "code",
      "source": [
        "import csv\n",
        "from datetime import datetime"
      ],
      "metadata": {
        "id": "cU_3i7WeAHTt"
      },
      "execution_count": 2,
      "outputs": []
    },
    {
      "cell_type": "code",
      "source": [
        "# prompt: read txt file into string\n",
        "\n",
        "with open('/content/31Oct2023-messages.txt', 'r') as f:\n",
        "    data = f.read()\n"
      ],
      "metadata": {
        "id": "xd0iNhHCALJV"
      },
      "execution_count": 3,
      "outputs": []
    },
    {
      "cell_type": "code",
      "source": [
        "\n",
        "# Split the input data into lines\n",
        "lines = data.strip().split('\\n')\n",
        "len(lines)"
      ],
      "metadata": {
        "id": "DB45bXzMAnR4",
        "colab": {
          "base_uri": "https://localhost:8080/"
        },
        "outputId": "afaf4cd4-0bd8-4c3f-96bf-f1ee6c995628"
      },
      "execution_count": 4,
      "outputs": [
        {
          "output_type": "execute_result",
          "data": {
            "text/plain": [
              "30042"
            ]
          },
          "metadata": {},
          "execution_count": 4
        }
      ]
    },
    {
      "cell_type": "code",
      "source": [
        "import csv\n",
        "from io import StringIO\n",
        "\n",
        "\n",
        "# Using StringIO to simulate file-like object\n",
        "data_file = StringIO(data)\n",
        "\n",
        "# Parse each line and extract values\n",
        "rows = []\n",
        "fieldnames = set()\n",
        "for line in data_file:\n",
        "    parts = line.split()\n",
        "    row = {}\n",
        "    row['timestamp'] = parts[0] + ' ' + parts[1]\n",
        "    for item in parts[2:]:\n",
        "      try:\n",
        "        key, value = item.split(\"=\")\n",
        "        row[key] = value.strip('\"')\n",
        "        fieldnames.add(key)  # Add the key to the set of fieldnames\n",
        "\n",
        "      except:\n",
        "        pass\n",
        "    rows.append(row)\n",
        "\n",
        "# Write to CSV\n",
        "csv_file_path = 'output.csv'\n",
        "with open(csv_file_path, 'w', newline='') as csvfile:\n",
        "    writer = csv.DictWriter(csvfile, fieldnames=fieldnames)\n",
        "\n",
        "    # Write header\n",
        "    writer.writeheader()\n",
        "\n",
        "    # Write rows\n",
        "    for row in rows:\n",
        "        writer.writerow(row)\n",
        "\n",
        "print(f\"CSV file created: {csv_file_path}\")\n"
      ],
      "metadata": {
        "colab": {
          "base_uri": "https://localhost:8080/"
        },
        "id": "pP01FxXeE9TG",
        "outputId": "376f5cca-08e9-44d9-a9d0-985a905d5eff"
      },
      "execution_count": 5,
      "outputs": [
        {
          "output_type": "stream",
          "name": "stdout",
          "text": [
            "CSV file created: output.csv\n"
          ]
        }
      ]
    },
    {
      "cell_type": "code",
      "source": [
        "import pandas as pd\n",
        "\n",
        "df = pd.read_csv(\"/content/output.csv\")"
      ],
      "metadata": {
        "colab": {
          "base_uri": "https://localhost:8080/"
        },
        "id": "aa4B9LosCgyt",
        "outputId": "b25f24b9-da23-4659-88de-810b865c0fb2"
      },
      "execution_count": 6,
      "outputs": [
        {
          "output_type": "stream",
          "name": "stderr",
          "text": [
            "<ipython-input-6-a47918203511>:3: DtypeWarning: Columns (11,52,59) have mixed types. Specify dtype option on import or set low_memory=False.\n",
            "  df = pd.read_csv(\"/content/output.csv\")\n"
          ]
        }
      ]
    },
    {
      "cell_type": "code",
      "source": [
        "df['level'].value_counts()"
      ],
      "metadata": {
        "colab": {
          "base_uri": "https://localhost:8080/"
        },
        "id": "8aHsVHnhFrw8",
        "outputId": "d8393d0a-24d8-4004-997c-aee51dffe47d"
      },
      "execution_count": 7,
      "outputs": [
        {
          "output_type": "execute_result",
          "data": {
            "text/plain": [
              "notice     29933\n",
              "error         67\n",
              "warning       42\n",
              "Name: level, dtype: int64"
            ]
          },
          "metadata": {},
          "execution_count": 7
        }
      ]
    },
    {
      "cell_type": "code",
      "source": [
        "df.shape"
      ],
      "metadata": {
        "id": "Qu4SLubQF68X",
        "colab": {
          "base_uri": "https://localhost:8080/"
        },
        "outputId": "010eb5ba-4d31-4ed3-ddd9-8b700b303f10"
      },
      "execution_count": 8,
      "outputs": [
        {
          "output_type": "execute_result",
          "data": {
            "text/plain": [
              "(30042, 62)"
            ]
          },
          "metadata": {},
          "execution_count": 8
        }
      ]
    },
    {
      "cell_type": "code",
      "source": [
        "! pip install ripser\n"
      ],
      "metadata": {
        "colab": {
          "base_uri": "https://localhost:8080/"
        },
        "id": "3PvjQjRjK5_4",
        "outputId": "5d6fe9c0-a3e4-4684-d8df-34d47a9971e1"
      },
      "execution_count": 9,
      "outputs": [
        {
          "output_type": "stream",
          "name": "stdout",
          "text": [
            "Requirement already satisfied: ripser in /usr/local/lib/python3.10/dist-packages (0.6.4)\n",
            "Requirement already satisfied: Cython in /usr/local/lib/python3.10/dist-packages (from ripser) (3.0.6)\n",
            "Requirement already satisfied: numpy in /usr/local/lib/python3.10/dist-packages (from ripser) (1.23.5)\n",
            "Requirement already satisfied: scipy in /usr/local/lib/python3.10/dist-packages (from ripser) (1.11.4)\n",
            "Requirement already satisfied: scikit-learn in /usr/local/lib/python3.10/dist-packages (from ripser) (1.2.2)\n",
            "Requirement already satisfied: persim in /usr/local/lib/python3.10/dist-packages (from ripser) (0.3.2)\n",
            "Requirement already satisfied: matplotlib in /usr/local/lib/python3.10/dist-packages (from persim->ripser) (3.7.1)\n",
            "Requirement already satisfied: hopcroftkarp in /usr/local/lib/python3.10/dist-packages (from persim->ripser) (1.2.5)\n",
            "Requirement already satisfied: deprecated in /usr/local/lib/python3.10/dist-packages (from persim->ripser) (1.2.14)\n",
            "Requirement already satisfied: joblib in /usr/local/lib/python3.10/dist-packages (from persim->ripser) (1.3.2)\n",
            "Requirement already satisfied: threadpoolctl>=2.0.0 in /usr/local/lib/python3.10/dist-packages (from scikit-learn->ripser) (3.2.0)\n",
            "Requirement already satisfied: wrapt<2,>=1.10 in /usr/local/lib/python3.10/dist-packages (from deprecated->persim->ripser) (1.14.1)\n",
            "Requirement already satisfied: contourpy>=1.0.1 in /usr/local/lib/python3.10/dist-packages (from matplotlib->persim->ripser) (1.2.0)\n",
            "Requirement already satisfied: cycler>=0.10 in /usr/local/lib/python3.10/dist-packages (from matplotlib->persim->ripser) (0.12.1)\n",
            "Requirement already satisfied: fonttools>=4.22.0 in /usr/local/lib/python3.10/dist-packages (from matplotlib->persim->ripser) (4.46.0)\n",
            "Requirement already satisfied: kiwisolver>=1.0.1 in /usr/local/lib/python3.10/dist-packages (from matplotlib->persim->ripser) (1.4.5)\n",
            "Requirement already satisfied: packaging>=20.0 in /usr/local/lib/python3.10/dist-packages (from matplotlib->persim->ripser) (23.2)\n",
            "Requirement already satisfied: pillow>=6.2.0 in /usr/local/lib/python3.10/dist-packages (from matplotlib->persim->ripser) (9.4.0)\n",
            "Requirement already satisfied: pyparsing>=2.3.1 in /usr/local/lib/python3.10/dist-packages (from matplotlib->persim->ripser) (3.1.1)\n",
            "Requirement already satisfied: python-dateutil>=2.7 in /usr/local/lib/python3.10/dist-packages (from matplotlib->persim->ripser) (2.8.2)\n",
            "Requirement already satisfied: six>=1.5 in /usr/local/lib/python3.10/dist-packages (from python-dateutil>=2.7->matplotlib->persim->ripser) (1.16.0)\n"
          ]
        }
      ]
    },
    {
      "cell_type": "code",
      "source": [
        "import pandas as pd\n",
        "from ripser import Rips\n",
        "import numpy as np\n",
        "\n",
        "# Assuming your DataFrame is named df\n",
        "# Fill NaN values with 0\n",
        "df = df.fillna(0).head(1000)\n",
        "\n",
        "# Select relevant columns for analysis\n",
        "columns_for_analysis = ['wanin', 'lanin', 'lanout', 'wanout', 'sentbyte', 'rcvdbyte', 'sentpkt', 'rcvdpkt']\n",
        "\n",
        "# Perform TDA analysis\n",
        "X = df[columns_for_analysis].to_numpy()\n",
        "rips = Rips()\n",
        "diagrams = rips.fit_transform(X)\n",
        "\n",
        "# Plot persistence diagrams\n",
        "rips.plot(diagrams)"
      ],
      "metadata": {
        "colab": {
          "base_uri": "https://localhost:8080/",
          "height": 469
        },
        "id": "63grEZlOJmLU",
        "outputId": "e8650e1f-5e3b-48fe-a624-610cd430a7bc"
      },
      "execution_count": 10,
      "outputs": [
        {
          "output_type": "stream",
          "name": "stdout",
          "text": [
            "Rips(maxdim=1, thresh=inf, coeff=2, do_cocycles=False, n_perm = None, verbose=True)\n"
          ]
        },
        {
          "output_type": "display_data",
          "data": {
            "text/plain": [
              "<Figure size 640x480 with 1 Axes>"
            ],
            "image/png": "[encoded data removed]"
          },
          "metadata": {}
        }
      ]
    },
    {
      "cell_type": "code",
      "source": [
        "diagrams"
      ],
      "metadata": {
        "colab": {
          "base_uri": "https://localhost:8080/"
        },
        "id": "VrkIGCwmK26z",
        "outputId": "38ceeefb-bc9c-46ef-8769-72c14e6d95bb"
      },
      "execution_count": 11,
      "outputs": [
        {
          "output_type": "execute_result",
          "data": {
            "text/plain": [
              "[array([[0.00000000e+00, 1.00000000e+00],\n",
              "        [0.00000000e+00, 1.00000000e+00],\n",
              "        [0.00000000e+00, 1.00000000e+00],\n",
              "        ...,\n",
              "        [0.00000000e+00, 5.17110596e+03],\n",
              "        [0.00000000e+00, 2.94382852e+04],\n",
              "        [0.00000000e+00,            inf]]),\n",
              " array([[5208.19189453, 5447.80078125],\n",
              "        [ 929.49554443,  963.5065918 ],\n",
              "        [ 788.82763672,  789.35736084],\n",
              "        [ 695.44952393,  880.88305664],\n",
              "        [ 644.81781006,  649.33734131],\n",
              "        [ 641.54034424,  702.67132568],\n",
              "        [ 576.13018799,  634.67077637],\n",
              "        [ 555.09185791,  737.86920166],\n",
              "        [ 509.82644653,  522.07659912],\n",
              "        [ 482.13275146,  700.50982666],\n",
              "        [ 474.64303589,  492.13412476],\n",
              "        [ 443.27868652,  579.2555542 ],\n",
              "        [ 435.1930542 ,  475.94326782],\n",
              "        [ 427.22360229,  431.74182129],\n",
              "        [ 418.5821228 ,  490.65975952],\n",
              "        [ 404.93084717,  412.32269287],\n",
              "        [ 403.06945801,  442.68499756],\n",
              "        [ 400.83163452,  406.28439331],\n",
              "        [ 399.20169067,  452.58148193],\n",
              "        [ 362.94628906,  365.87701416],\n",
              "        [ 360.82543945,  407.00491333],\n",
              "        [ 356.65390015,  365.18078613],\n",
              "        [ 355.46871948,  507.24847412],\n",
              "        [ 346.3711853 ,  773.89208984],\n",
              "        [ 345.83810425,  610.98199463],\n",
              "        [ 318.23104858,  322.53216553],\n",
              "        [ 316.76489258,  510.92562866],\n",
              "        [ 288.20132446,  336.88720703],\n",
              "        [ 269.38449097,  330.49356079],\n",
              "        [ 265.75552368,  307.00814819],\n",
              "        [ 264.94717407,  271.08117676],\n",
              "        [ 257.42959595,  329.59823608],\n",
              "        [ 241.89460754,  242.98765564],\n",
              "        [ 225.80300903,  325.84350586],\n",
              "        [ 220.15449524,  268.23309326],\n",
              "        [ 219.24642944,  227.81791687],\n",
              "        [ 217.59135437,  232.44999695],\n",
              "        [ 216.22442627,  227.7696228 ],\n",
              "        [ 206.88644409,  288.08679199],\n",
              "        [ 200.02749634,  203.10096741],\n",
              "        [ 197.53987122,  216.02082825],\n",
              "        [ 193.21232605,  211.93159485],\n",
              "        [ 184.20097351,  189.39376831],\n",
              "        [ 180.07220459,  198.02272034],\n",
              "        [ 179.84437561,  180.72354126],\n",
              "        [ 175.80955505,  192.59542847],\n",
              "        [ 163.621521  ,  177.25123596],\n",
              "        [ 162.75134277,  209.48985291],\n",
              "        [ 153.11759949,  185.07025146],\n",
              "        [ 142.55525208,  188.30560303],\n",
              "        [ 134.        ,  155.25462341],\n",
              "        [ 132.29135132,  147.79716492],\n",
              "        [ 132.14385986,  159.14144897],\n",
              "        [ 125.0039978 ,  129.01550293],\n",
              "        [ 123.19091034,  157.81634521],\n",
              "        [ 117.44786072,  118.30891418],\n",
              "        [ 116.73046112,  155.55706787],\n",
              "        [ 112.8760376 ,  120.48651123],\n",
              "        [ 111.28791809,  135.97425842],\n",
              "        [ 108.76580048,  109.43491364],\n",
              "        [ 107.72650909,  112.92918396],\n",
              "        [ 106.96728516,  113.89469147],\n",
              "        [ 105.92449951,  117.93642426],\n",
              "        [ 105.62670135,  114.56002808],\n",
              "        [ 104.40306854,  133.28541565],\n",
              "        [ 100.50373077,  104.01922607],\n",
              "        [  99.4786377 ,  109.31148529],\n",
              "        [  99.        ,  109.26573181],\n",
              "        [  96.34313965,  133.71611023],\n",
              "        [  95.42012024,  136.06616211],\n",
              "        [  85.2408371 ,   95.69221497],\n",
              "        [  85.09993744,   89.46508026],\n",
              "        [  76.41989136,   78.60661316],\n",
              "        [  73.54590607,   79.        ],\n",
              "        [  72.00694275,   79.4103241 ],\n",
              "        [  69.23871613,   80.15609741],\n",
              "        [  68.88395691,   73.93916321],\n",
              "        [  64.5058136 ,   71.37226105],\n",
              "        [  59.        ,   61.06554031],\n",
              "        [  58.        ,   72.14568329],\n",
              "        [  56.08921432,   82.43179321],\n",
              "        [  55.31726837,   62.45798492],\n",
              "        [  52.76362228,   57.41080093],\n",
              "        [  52.00961304,   56.08921432],\n",
              "        [  51.27377319,   52.00961304],\n",
              "        [  48.79549026,   51.97114563],\n",
              "        [  42.3556366 ,   42.72002029],\n",
              "        [  40.01249695,   51.23475266],\n",
              "        [  40.01249695,   51.23475266],\n",
              "        [  40.01249695,   51.23475266],\n",
              "        [  40.01249695,   51.23475266],\n",
              "        [  40.01249695,   51.23475266],\n",
              "        [  38.47076797,   40.06245041],\n",
              "        [  37.94733047,   39.8120575 ],\n",
              "        [  37.49666595,   44.40720749],\n",
              "        [  36.26292801,   41.82104874],\n",
              "        [  35.90264511,   40.12480545]])]"
            ]
          },
          "metadata": {},
          "execution_count": 11
        }
      ]
    },
    {
      "cell_type": "code",
      "source": [],
      "metadata": {
        "id": "0HdLAHO2LlzD"
      },
      "execution_count": null,
      "outputs": []
    }
  ]
}